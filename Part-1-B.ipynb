{
 "cells": [
  {
   "cell_type": "code",
   "execution_count": 1,
   "id": "78a1b990",
   "metadata": {},
   "outputs": [
    {
     "name": "stdout",
     "output_type": "stream",
     "text": [
      "********Names and Categories of animals related to a bear*********\n",
      "\t\t\n",
      "['3', ' Sri Lankan sloth bear', ' exotic', ' 2.5']\n",
      "['4', ' Grizzly bear', ' common', ' 3.0']\n",
      "['5', ' Giant Panda bear', ' exotic', ' 1.5']\n",
      "['6', ' Florida black bear', ' rare', ' 1.75']\n",
      "\t\t\t\t\t\n",
      "*******Names of animals related to tiger but are not common******\n",
      "\t\t\n",
      "['7', ' Siberian tiger', ' rare', ' 3.5']\n",
      "['9', ' South China tiger', ' exotic', ' 2.25']\n"
     ]
    }
   ],
   "source": [
    "with open(\"/Users/shalvikamishra/Desktop/animal.txt\", \"r\") as file:\n",
    "    lines = file.readlines()\n",
    "    \n",
    "    print(\"********Names and Categories of animals related to a bear*********\")\n",
    "    print(\"\\t\\t\")\n",
    "    for word in lines:        \n",
    "        if \"bear\" in word.strip().split(\",\")[1]:\n",
    "            print(word.strip().split(\",\"))\n",
    "            \n",
    "            \n",
    "    print(\"\\t\\t\\t\\t\\t\")\n",
    "    print(\"*******Names of animals related to tiger but are not common******\")\n",
    "    print(\"\\t\\t\")\n",
    "    for word in lines:\n",
    "        if (\"tiger\" in word.strip().split(\",\")[1]) and (\"common\" not in word.strip().split(\",\")[2]):\n",
    "            print(word.strip().split(\",\"))"
   ]
  },
  {
   "cell_type": "code",
   "execution_count": null,
   "id": "d0078845",
   "metadata": {},
   "outputs": [],
   "source": []
  }
 ],
 "metadata": {
  "kernelspec": {
   "display_name": "Python 3",
   "language": "python",
   "name": "python3"
  },
  "language_info": {
   "codemirror_mode": {
    "name": "ipython",
    "version": 3
   },
   "file_extension": ".py",
   "mimetype": "text/x-python",
   "name": "python",
   "nbconvert_exporter": "python",
   "pygments_lexer": "ipython3",
   "version": "3.8.8"
  }
 },
 "nbformat": 4,
 "nbformat_minor": 5
}
